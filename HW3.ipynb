{
 "cells": [
  {
   "cell_type": "markdown",
   "metadata": {},
   "source": [
    "# Problem 1, Six Sigma\n",
    "Six Sigma (6σ) is a set of techniques and tools for process improvement. It was introduced by American engineer Bill Smith while working at Motorola in 1980.Jack Welch made it central to his business strategy at General Electric in 1995. A six sigma process is one in which 99.99966% of all opportunities to produce some feature of a part are statistically expected to be free of defects.\n",
    "* 1. Please write R code to verify the probabilities within σ, 2σ and 3σ as shown in the above graph\n",
    "* 2. Write R code to find out, within how many σ, the probability is 99.99966%. Is it really 6σ?"
   ]
  },
  {
   "cell_type": "code",
   "execution_count": 197,
   "metadata": {},
   "outputs": [
    {
     "name": "stderr",
     "output_type": "stream",
     "text": [
      "Warning message:\n",
      "\"Removed 120 row(s) containing missing values (geom_path).\""
     ]
    },
    {
     "data": {
      "text/html": [
       "0.682689492137086"
      ],
      "text/latex": [
       "0.682689492137086"
      ],
      "text/markdown": [
       "0.682689492137086"
      ],
      "text/plain": [
       "[1] 0.6826895"
      ]
     },
     "metadata": {},
     "output_type": "display_data"
    },
    {
     "data": {
      "text/html": [
       "0.954499736103642"
      ],
      "text/latex": [
       "0.954499736103642"
      ],
      "text/markdown": [
       "0.954499736103642"
      ],
      "text/plain": [
       "[1] 0.9544997"
      ]
     },
     "metadata": {},
     "output_type": "display_data"
    },
    {
     "data": {
      "text/html": [
       "0.99730020393674"
      ],
      "text/latex": [
       "0.99730020393674"
      ],
      "text/markdown": [
       "0.99730020393674"
      ],
      "text/plain": [
       "[1] 0.9973002"
      ]
     },
     "metadata": {},
     "output_type": "display_data"
    },
    {
     "data": {
      "text/html": [
       "0.999999998026825"
      ],
      "text/latex": [
       "0.999999998026825"
      ],
      "text/markdown": [
       "0.999999998026825"
      ],
      "text/plain": [
       "[1] 1"
      ]
     },
     "metadata": {},
     "output_type": "display_data"
    },
    {
     "data": {
      "text/html": [
       "0.999996680649711"
      ],
      "text/latex": [
       "0.999996680649711"
      ],
      "text/markdown": [
       "0.999996680649711"
      ],
      "text/plain": [
       "[1] 0.9999967"
      ]
     },
     "metadata": {},
     "output_type": "display_data"
    },
    {
     "data": {
      "image/png": "[encoded data removed]",
      "text/plain": [
       "plot without title"
      ]
     },
     "metadata": {},
     "output_type": "display_data"
    }
   ],
   "source": [
    "library(plotly)\n",
    "library(data.table)\n",
    "# define X and Y\n",
    "x <- seq(-30, 30, by = 0.1) \n",
    "y<-dnorm(x,0,5)\n",
    "d=data.table(x,y)\n",
    "p<-ggplot(d, aes(x=x, y=y))+geom_line()\n",
    "# adding lines on the plot\n",
    " p + geom_vline(xintercept = 5*4.65, size = 0) + geom_vline(xintercept = -5*4.65, size = 0)+ #4.65 sigma probabiliy = 99.99966%\n",
    "geom_vline(xintercept = 5, size = 0)+geom_vline(xintercept = -5, size = 0)+ # 1 sigma probability = 0.682689492137086\n",
    "geom_vline(xintercept = 10, size = 0)+geom_vline(xintercept = -10, size = 0)+ # 2 sigma probability = 0.954499736103642\n",
    "geom_vline(xintercept = 15, size = 0)+geom_vline(xintercept = -15, size = 0)+ # 3 sigma probability = 0.99730020393674\n",
    "xlim(-24, 24)\n",
    "\n",
    "1-(pnorm(5, mean = 0, sd = 5, lower.tail = FALSE, log.p = FALSE)*2)# 1 sigma\n",
    "1-(1-pnorm(10, mean = 0, sd = 5, lower.tail = TRUE, log.p = FALSE))*2# 2 sigma\n",
    "1-(1-pnorm(15, mean = 0, sd = 5, lower.tail = TRUE, log.p = FALSE))*2# 3 sigma\n",
    "1-(pnorm(5*6, mean = 0, sd = 5, lower.tail = FALSE, log.p = FALSE)*2) #appling 6 sigma no equal to 99.99966%\n",
    "1-(pnorm(5*4.65, mean = 0, sd = 5, lower.tail = FALSE, log.p = FALSE)*2) # appling 4.65 sigma probabiliy = 99.99966%"
   ]
  },
  {
   "cell_type": "markdown",
   "metadata": {},
   "source": [
    "# Problem 2, Job Search \n",
    "You are spamming resumes to apply jobs. Each resume you send out has 1% chance of getting a job offer. You have sent 100 resumes. What's your chance to get at least one job offer?\n",
    "* 1.Please solve the problem by math. Use R mathematical expression to get the result.\n",
    "* 2.Analytic solution. Use R’s probability functions to solve the problem.\n",
    "* 3.Answer by simulation. Use sampling function to simulate the process and estimate the answer.\n",
    "* 4.How many resumes in total do you have to spam so that you will have 90% chance to get at least one job offer? "
   ]
  },
  {
   "cell_type": "code",
   "execution_count": 31,
   "metadata": {},
   "outputs": [
    {
     "data": {
      "text/html": [
       "0.633967658726771"
      ],
      "text/latex": [
       "0.633967658726771"
      ],
      "text/markdown": [
       "0.633967658726771"
      ],
      "text/plain": [
       "[1] 0.6339677"
      ]
     },
     "metadata": {},
     "output_type": "display_data"
    }
   ],
   "source": [
    "# 1.Please solve the problem by math. Use R mathematical expression to get the result.\n",
    "1-0.99^100"
   ]
  },
  {
   "cell_type": "code",
   "execution_count": 105,
   "metadata": {},
   "outputs": [
    {
     "name": "stdout",
     "output_type": "stream",
     "text": [
      "[1] 0.6302704\n"
     ]
    }
   ],
   "source": [
    "# 2.Analytic solution. Use R’s probability functions to solve the problem.\n",
    "x <- dbinom(1,100,0.01)\n",
    "print(1-x)"
   ]
  },
  {
   "cell_type": "code",
   "execution_count": 54,
   "metadata": {},
   "outputs": [
    {
     "data": {
      "text/plain": [
       "sampling\n",
       " F  S \n",
       "99  1 "
      ]
     },
     "metadata": {},
     "output_type": "display_data"
    }
   ],
   "source": [
    "# 3.Answer by simulation. Use sampling function to simulate the process and estimate the answer.\n",
    "x = c(\"S\",\"F\")\n",
    "sampling = sample(x,size = 100,replace = T,prob = c(0.01,0.99))\n",
    "table(sampling)"
   ]
  },
  {
   "cell_type": "code",
   "execution_count": 123,
   "metadata": {},
   "outputs": [
    {
     "name": "stdout",
     "output_type": "stream",
     "text": [
      "[1] 0.9002765\n",
      "[1] \"Have 90% chance to get at least one job offer by sending 357 resumes\"\n"
     ]
    }
   ],
   "source": [
    "# 4.How many resumes in total do you have to spam so that you will have 90% chance to get at least one job offer?\n",
    "x <- dbinom(1,357,0.01)\n",
    "print(1-x)\n",
    "print(\"Have 90% chance to get at least one job offer by sending 357 resumes\")"
   ]
  },
  {
   "cell_type": "markdown",
   "metadata": {},
   "source": [
    "# Problem 3, President Election Polls \n",
    "Half of the population supports the president (i.e., p=0.5). For a random sample of size 1000, what is the probability of having ≥600 in support of the president?\n",
    "* 1. Use binomial distribution\n",
    "* 2. Use normal distribution as approximation."
   ]
  },
  {
   "cell_type": "code",
   "execution_count": 53,
   "metadata": {},
   "outputs": [
    {
     "data": {
      "text/html": [
       "0.999999999863577"
      ],
      "text/latex": [
       "0.999999999863577"
      ],
      "text/markdown": [
       "0.999999999863577"
      ],
      "text/plain": [
       "[1] 1"
      ]
     },
     "metadata": {},
     "output_type": "display_data"
    },
    {
     "data": {
      "text/html": [
       "599"
      ],
      "text/latex": [
       "599"
      ],
      "text/markdown": [
       "599"
      ],
      "text/plain": [
       "[1] 599"
      ]
     },
     "metadata": {},
     "output_type": "display_data"
    },
    {
     "data": {
      "text/html": [
       "401"
      ],
      "text/latex": [
       "401"
      ],
      "text/markdown": [
       "401"
      ],
      "text/plain": [
       "[1] 401"
      ]
     },
     "metadata": {},
     "output_type": "display_data"
    },
    {
     "data": {
      "text/html": [
       "9.9"
      ],
      "text/latex": [
       "9.9"
      ],
      "text/markdown": [
       "9.9"
      ],
      "text/plain": [
       "[1] 9.9"
      ]
     },
     "metadata": {},
     "output_type": "display_data"
    }
   ],
   "source": [
    "pbinom(400,1000,0.5,lower.tail = F) \n",
    "# The answer is 0.999999999863577 is the probability of having ≥600 in support of the president\n",
    "qbinom(0.999999999863577,1000,0.5) \n",
    "1000-599\n",
    "50-(401*0.1)"
   ]
  },
  {
   "cell_type": "code",
   "execution_count": 66,
   "metadata": {},
   "outputs": [
    {
     "data": {
      "image/png": "[encoded data removed]",
      "text/plain": [
       "plot without title"
      ]
     },
     "metadata": {},
     "output_type": "display_data"
    }
   ],
   "source": [
    "library(plotly)\n",
    "library(data.table)\n",
    "library(ggplot2)\n",
    "x = seq(-50,50,by = 0.1)\n",
    "y = dnorm(x,sd=10)\n",
    "d = data.table(x,y)\n",
    "p<-plot(x,y,xlab=\"x\",ylab=\"pdf\",type = \"l\")\n",
    "xvals <- seq(9.9,50,length=402) \n",
    "dvals <- dnorm(xvals,sd = 10) \n",
    "polygon(c(xvals,rev(xvals)),c(rep(0,402),rev(dvals)),col=\"gray\")"
   ]
  }
 ],
 "metadata": {
  "kernelspec": {
   "display_name": "R",
   "language": "R",
   "name": "ir"
  },
  "language_info": {
   "codemirror_mode": "r",
   "file_extension": ".r",
   "mimetype": "text/x-r-source",
   "name": "R",
   "pygments_lexer": "r",
   "version": "3.6.3"
  }
 },
 "nbformat": 4,
 "nbformat_minor": 2
}
