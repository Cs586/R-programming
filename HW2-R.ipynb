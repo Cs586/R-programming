{
 "cells": [
  {
   "cell_type": "markdown",
   "metadata": {},
   "source": [
    "## Homework Assignment 2: Find all dividends\n",
    "\n",
    "### Data Preparation\n",
    "\n",
    "Use the 6 stocks ['IBM', 'MSFT', 'GOOG', 'AAPL', 'AMZN', 'FB'] historical data from homework assignment 2.\n",
    "\n",
    "### Load the data to dataframes\n",
    "\n",
    "You will have 6 dataframes.\n",
    "\n",
    "### Understand how to compute the dividends\n",
    "\n",
    "There are two columns in each csv file, \"Close\" and \"Adj Close\". If we compute the ratio of previous day's \"Close\" price and today's \"Close\" price, then compare with the ratio of previous day's \"Adj Close\" price and today's \"Adj Close\" price, on most of days, the two ratios should be equal. On dividend day, the two ratios will have a difference. The difference times today's \"Close\" price, you will get the dividend. As the example below, you should be able to use the method to reproduce the $1.5 dividend on 2/8/2018.\n",
    "\n",
    "\n",
    "### The result\n",
    "\n",
    "You result will have 6 dataframes, each of them have two columns, Date and Dividend. The dataframe should only have the rows that represent the divident day and amount.\n",
    "\n",
    "### Submit\n",
    "\n",
    "Due in one week from today.\n",
    "\n",
    "Submit your jupyter notebook file and HTML format with all intermediate results and the final dataframe. "
   ]
  },
  {
   "cell_type": "code",
   "execution_count": 1,
   "metadata": {},
   "outputs": [
    {
     "name": "stderr",
     "output_type": "stream",
     "text": [
      "Warning message:\n",
      "\"package 'data.table' was built under R version 3.6.3\"\n",
      "Attaching package: 'dplyr'\n",
      "\n",
      "The following objects are masked from 'package:data.table':\n",
      "\n",
      "    between, first, last\n",
      "\n",
      "The following objects are masked from 'package:stats':\n",
      "\n",
      "    filter, lag\n",
      "\n",
      "The following objects are masked from 'package:base':\n",
      "\n",
      "    intersect, setdiff, setequal, union\n",
      "\n",
      "Warning message:\n",
      "\"package 'R.utils' was built under R version 3.6.3\"Loading required package: R.oo\n",
      "Warning message:\n",
      "\"package 'R.oo' was built under R version 3.6.3\"Loading required package: R.methodsS3\n",
      "Warning message:\n",
      "\"package 'R.methodsS3' was built under R version 3.6.3\"R.methodsS3 v1.8.1 (2020-08-26 16:20:06 UTC) successfully loaded. See ?R.methodsS3 for help.\n",
      "R.oo v1.24.0 (2020-08-26 16:11:58 UTC) successfully loaded. See ?R.oo for help.\n",
      "\n",
      "Attaching package: 'R.oo'\n",
      "\n",
      "The following object is masked from 'package:R.methodsS3':\n",
      "\n",
      "    throw\n",
      "\n",
      "The following objects are masked from 'package:methods':\n",
      "\n",
      "    getClasses, getMethods\n",
      "\n",
      "The following objects are masked from 'package:base':\n",
      "\n",
      "    attach, detach, load, save\n",
      "\n",
      "R.utils v2.10.1 (2020-08-26 22:50:31 UTC) successfully loaded. See ?R.utils for help.\n",
      "\n",
      "Attaching package: 'R.utils'\n",
      "\n",
      "The following object is masked from 'package:utils':\n",
      "\n",
      "    timestamp\n",
      "\n",
      "The following objects are masked from 'package:base':\n",
      "\n",
      "    cat, commandArgs, getOption, inherits, isOpen, nullfile, parse,\n",
      "    warnings\n",
      "\n"
     ]
    }
   ],
   "source": [
    "library(data.table)\n",
    "library(dplyr)\n",
    "library(R.utils)"
   ]
  },
  {
   "cell_type": "code",
   "execution_count": 2,
   "metadata": {},
   "outputs": [
    {
     "data": {
      "text/html": [
       "<table>\n",
       "<thead><tr><th scope=col>Date</th><th scope=col>Open</th><th scope=col>High</th><th scope=col>Low</th><th scope=col>Close</th><th scope=col>Adj.Close</th><th scope=col>Volume</th></tr></thead>\n",
       "<tbody>\n",
       "\t<tr><td>2018-01-02</td><td>42.5400   </td><td>43.0750   </td><td>42.315    </td><td>43.0650   </td><td>41.38024  </td><td>102223600 </td></tr>\n",
       "\t<tr><td>2018-01-03</td><td>43.1325   </td><td>43.6375   </td><td>42.990    </td><td>43.0575   </td><td>41.37303  </td><td>118071600 </td></tr>\n",
       "</tbody>\n",
       "</table>\n"
      ],
      "text/latex": [
       "\\begin{tabular}{r|lllllll}\n",
       " Date & Open & High & Low & Close & Adj.Close & Volume\\\\\n",
       "\\hline\n",
       "\t 2018-01-02 & 42.5400    & 43.0750    & 42.315     & 43.0650    & 41.38024   & 102223600 \\\\\n",
       "\t 2018-01-03 & 43.1325    & 43.6375    & 42.990     & 43.0575    & 41.37303   & 118071600 \\\\\n",
       "\\end{tabular}\n"
      ],
      "text/markdown": [
       "\n",
       "| Date | Open | High | Low | Close | Adj.Close | Volume |\n",
       "|---|---|---|---|---|---|---|\n",
       "| 2018-01-02 | 42.5400    | 43.0750    | 42.315     | 43.0650    | 41.38024   | 102223600  |\n",
       "| 2018-01-03 | 43.1325    | 43.6375    | 42.990     | 43.0575    | 41.37303   | 118071600  |\n",
       "\n"
      ],
      "text/plain": [
       "  Date       Open    High    Low    Close   Adj.Close Volume   \n",
       "1 2018-01-02 42.5400 43.0750 42.315 43.0650 41.38024  102223600\n",
       "2 2018-01-03 43.1325 43.6375 42.990 43.0575 41.37303  118071600"
      ]
     },
     "metadata": {},
     "output_type": "display_data"
    },
    {
     "data": {
      "text/html": [
       "<table>\n",
       "<thead><tr><th scope=col>Date</th><th scope=col>Open</th><th scope=col>High</th><th scope=col>Low</th><th scope=col>Close</th><th scope=col>Adj.Close</th><th scope=col>Volume</th></tr></thead>\n",
       "<tbody>\n",
       "\t<tr><td>2018-01-02</td><td>1048.34   </td><td>1066.94   </td><td>1045.23   </td><td>1065.00   </td><td>1065.00   </td><td>1237600   </td></tr>\n",
       "\t<tr><td>2018-01-03</td><td>1064.31   </td><td>1086.29   </td><td>1063.21   </td><td>1082.48   </td><td>1082.48   </td><td>1430200   </td></tr>\n",
       "</tbody>\n",
       "</table>\n"
      ],
      "text/latex": [
       "\\begin{tabular}{r|lllllll}\n",
       " Date & Open & High & Low & Close & Adj.Close & Volume\\\\\n",
       "\\hline\n",
       "\t 2018-01-02 & 1048.34    & 1066.94    & 1045.23    & 1065.00    & 1065.00    & 1237600   \\\\\n",
       "\t 2018-01-03 & 1064.31    & 1086.29    & 1063.21    & 1082.48    & 1082.48    & 1430200   \\\\\n",
       "\\end{tabular}\n"
      ],
      "text/markdown": [
       "\n",
       "| Date | Open | High | Low | Close | Adj.Close | Volume |\n",
       "|---|---|---|---|---|---|---|\n",
       "| 2018-01-02 | 1048.34    | 1066.94    | 1045.23    | 1065.00    | 1065.00    | 1237600    |\n",
       "| 2018-01-03 | 1064.31    | 1086.29    | 1063.21    | 1082.48    | 1082.48    | 1430200    |\n",
       "\n"
      ],
      "text/plain": [
       "  Date       Open    High    Low     Close   Adj.Close Volume \n",
       "1 2018-01-02 1048.34 1066.94 1045.23 1065.00 1065.00   1237600\n",
       "2 2018-01-03 1064.31 1086.29 1063.21 1082.48 1082.48   1430200"
      ]
     },
     "metadata": {},
     "output_type": "display_data"
    },
    {
     "data": {
      "text/html": [
       "<table>\n",
       "<thead><tr><th scope=col>Date</th><th scope=col>Open</th><th scope=col>High</th><th scope=col>Low</th><th scope=col>Close</th><th scope=col>Adj.Close</th><th scope=col>Volume</th></tr></thead>\n",
       "<tbody>\n",
       "\t<tr><td>2018-01-02</td><td>86.13     </td><td>86.31     </td><td>85.50     </td><td>85.95     </td><td>82.38364  </td><td>22483800  </td></tr>\n",
       "\t<tr><td>2018-01-03</td><td>86.06     </td><td>86.51     </td><td>85.97     </td><td>86.35     </td><td>82.76704  </td><td>26061400  </td></tr>\n",
       "</tbody>\n",
       "</table>\n"
      ],
      "text/latex": [
       "\\begin{tabular}{r|lllllll}\n",
       " Date & Open & High & Low & Close & Adj.Close & Volume\\\\\n",
       "\\hline\n",
       "\t 2018-01-02 & 86.13      & 86.31      & 85.50      & 85.95      & 82.38364   & 22483800  \\\\\n",
       "\t 2018-01-03 & 86.06      & 86.51      & 85.97      & 86.35      & 82.76704   & 26061400  \\\\\n",
       "\\end{tabular}\n"
      ],
      "text/markdown": [
       "\n",
       "| Date | Open | High | Low | Close | Adj.Close | Volume |\n",
       "|---|---|---|---|---|---|---|\n",
       "| 2018-01-02 | 86.13      | 86.31      | 85.50      | 85.95      | 82.38364   | 22483800   |\n",
       "| 2018-01-03 | 86.06      | 86.51      | 85.97      | 86.35      | 82.76704   | 26061400   |\n",
       "\n"
      ],
      "text/plain": [
       "  Date       Open  High  Low   Close Adj.Close Volume  \n",
       "1 2018-01-02 86.13 86.31 85.50 85.95 82.38364  22483800\n",
       "2 2018-01-03 86.06 86.51 85.97 86.35 82.76704  26061400"
      ]
     },
     "metadata": {},
     "output_type": "display_data"
    },
    {
     "data": {
      "text/html": [
       "<table>\n",
       "<thead><tr><th scope=col>Date</th><th scope=col>Open</th><th scope=col>High</th><th scope=col>Low</th><th scope=col>Close</th><th scope=col>Adj.Close</th><th scope=col>Volume</th></tr></thead>\n",
       "<tbody>\n",
       "\t<tr><td>2018-01-02</td><td>1172.0    </td><td>1190.00   </td><td>1170.51   </td><td>1189.01   </td><td>1189.01   </td><td>2694500   </td></tr>\n",
       "\t<tr><td>2018-01-03</td><td>1188.3    </td><td>1205.49   </td><td>1188.30   </td><td>1204.20   </td><td>1204.20   </td><td>3108800   </td></tr>\n",
       "</tbody>\n",
       "</table>\n"
      ],
      "text/latex": [
       "\\begin{tabular}{r|lllllll}\n",
       " Date & Open & High & Low & Close & Adj.Close & Volume\\\\\n",
       "\\hline\n",
       "\t 2018-01-02 & 1172.0     & 1190.00    & 1170.51    & 1189.01    & 1189.01    & 2694500   \\\\\n",
       "\t 2018-01-03 & 1188.3     & 1205.49    & 1188.30    & 1204.20    & 1204.20    & 3108800   \\\\\n",
       "\\end{tabular}\n"
      ],
      "text/markdown": [
       "\n",
       "| Date | Open | High | Low | Close | Adj.Close | Volume |\n",
       "|---|---|---|---|---|---|---|\n",
       "| 2018-01-02 | 1172.0     | 1190.00    | 1170.51    | 1189.01    | 1189.01    | 2694500    |\n",
       "| 2018-01-03 | 1188.3     | 1205.49    | 1188.30    | 1204.20    | 1204.20    | 3108800    |\n",
       "\n"
      ],
      "text/plain": [
       "  Date       Open   High    Low     Close   Adj.Close Volume \n",
       "1 2018-01-02 1172.0 1190.00 1170.51 1189.01 1189.01   2694500\n",
       "2 2018-01-03 1188.3 1205.49 1188.30 1204.20 1204.20   3108800"
      ]
     },
     "metadata": {},
     "output_type": "display_data"
    },
    {
     "data": {
      "text/html": [
       "<table>\n",
       "<thead><tr><th scope=col>Date</th><th scope=col>Open</th><th scope=col>High</th><th scope=col>Low</th><th scope=col>Close</th><th scope=col>Adj.Close</th><th scope=col>Volume</th></tr></thead>\n",
       "<tbody>\n",
       "\t<tr><td>2018-01-02</td><td>177.68    </td><td>181.58    </td><td>177.55    </td><td>181.42    </td><td>181.42    </td><td>18151900  </td></tr>\n",
       "\t<tr><td>2018-01-03</td><td>181.88    </td><td>184.78    </td><td>181.33    </td><td>184.67    </td><td>184.67    </td><td>16886600  </td></tr>\n",
       "</tbody>\n",
       "</table>\n"
      ],
      "text/latex": [
       "\\begin{tabular}{r|lllllll}\n",
       " Date & Open & High & Low & Close & Adj.Close & Volume\\\\\n",
       "\\hline\n",
       "\t 2018-01-02 & 177.68     & 181.58     & 177.55     & 181.42     & 181.42     & 18151900  \\\\\n",
       "\t 2018-01-03 & 181.88     & 184.78     & 181.33     & 184.67     & 184.67     & 16886600  \\\\\n",
       "\\end{tabular}\n"
      ],
      "text/markdown": [
       "\n",
       "| Date | Open | High | Low | Close | Adj.Close | Volume |\n",
       "|---|---|---|---|---|---|---|\n",
       "| 2018-01-02 | 177.68     | 181.58     | 177.55     | 181.42     | 181.42     | 18151900   |\n",
       "| 2018-01-03 | 181.88     | 184.78     | 181.33     | 184.67     | 184.67     | 16886600   |\n",
       "\n"
      ],
      "text/plain": [
       "  Date       Open   High   Low    Close  Adj.Close Volume  \n",
       "1 2018-01-02 177.68 181.58 177.55 181.42 181.42    18151900\n",
       "2 2018-01-03 181.88 184.78 181.33 184.67 184.67    16886600"
      ]
     },
     "metadata": {},
     "output_type": "display_data"
    }
   ],
   "source": [
    "IBM_df = read.csv(\"IBM.csv\")\n",
    "AAPL_df = read.csv(\"AAPL.csv\")\n",
    "GOOG_df = read.csv(\"GOOG.csv\")\n",
    "MSFT_df = read.csv(\"MSFT.csv\")\n",
    "AMZN_df = read.csv(\"AMZN.csv\")\n",
    "FB_df = read.csv(\"FB.csv\")\n",
    "head(AAPL_df,2)\n",
    "head(GOOG_df,2)\n",
    "head(MSFT_df,2)\n",
    "head(AMZN_df,2)\n",
    "head(FB_df,2)"
   ]
  },
  {
   "cell_type": "code",
   "execution_count": 3,
   "metadata": {
    "scrolled": false
   },
   "outputs": [
    {
     "name": "stderr",
     "output_type": "stream",
     "text": [
      "Warning message in round(IBM_df[2:250, \"Close\"], digits = 5)/round(IBM_df[1:250, :\n",
      "\"longer object length is not a multiple of shorter object length\"Warning message in round(IBM_df[2:250, \"Adj.Close\"], digits = 5)/round(IBM_df[1:250, :\n",
      "\"longer object length is not a multiple of shorter object length\""
     ]
    }
   ],
   "source": [
    "#ratio of previous day's \"Close\" price and today's \"Close\" price\n",
    "Close_Ratio = mutate(IBM_df, Close_ratio=round(IBM_df[2:250,\"Close\"],digits=5)/round(IBM_df[1:250,\"Close\"],digits=5))\n",
    "Adj_Ratio = mutate(IBM_df, Adj_ratio=round(IBM_df[2:250,\"Adj.Close\"],digits=5)/round(IBM_df[1:250,\"Adj.Close\"],digits=5))"
   ]
  },
  {
   "cell_type": "code",
   "execution_count": 12,
   "metadata": {},
   "outputs": [
    {
     "name": "stderr",
     "output_type": "stream",
     "text": [
      "Warning message in round(IBM_df[2:250, \"Close\"], digits = 1)/round(IBM_df[1:250, :\n",
      "\"longer object length is not a multiple of shorter object length\"Warning message in round(IBM_df[2:250, \"Adj.Close\"], digits = 1)/round(IBM_df[1:250, :\n",
      "\"longer object length is not a multiple of shorter object length\"Warning message in IBM_df_N[, \"Diff\"] * IBM_df[2:250, \"Close\"]:\n",
      "\"longer object length is not a multiple of shorter object length\""
     ]
    },
    {
     "data": {
      "text/html": [
       "<table>\n",
       "<thead><tr><th scope=col>Date</th><th scope=col>Open</th><th scope=col>High</th><th scope=col>Low</th><th scope=col>Close</th><th scope=col>Adj.Close</th><th scope=col>Volume</th><th scope=col>Close_ratio</th><th scope=col>Adj_ratio</th><th scope=col>Diff</th><th scope=col>Dividend</th></tr></thead>\n",
       "<tbody>\n",
       "\t<tr><td>2018-12-28 </td><td>114.22     </td><td>114.80     </td><td>112.50     </td><td>113.03     </td><td>102.4823   </td><td> 5117500   </td><td>1.4026549  </td><td>1.3414634  </td><td>0.061191453</td><td>9.7        </td></tr>\n",
       "\t<tr><td>2018-05-08 </td><td>143.00     </td><td>143.51     </td><td>142.06     </td><td>143.00     </td><td>125.2661   </td><td> 5369100   </td><td>0.9972028  </td><td>1.0079808  </td><td>0.010778049</td><td>1.5        </td></tr>\n",
       "\t<tr><td>2018-08-08 </td><td>147.33     </td><td>147.43     </td><td>146.24     </td><td>146.89     </td><td>130.1021   </td><td> 3581100   </td><td>0.9857046  </td><td>0.9961568  </td><td>0.010452242</td><td>1.5        </td></tr>\n",
       "\t<tr><td>2018-11-07 </td><td>123.79     </td><td>125.06     </td><td>122.33     </td><td>124.84     </td><td>111.7667   </td><td>12382700   </td><td>0.9887821  </td><td>1.0008945  </td><td>0.012112403</td><td>1.5        </td></tr>\n",
       "\t<tr><td>2018-02-07 </td><td>154.17     </td><td>155.34     </td><td>153.28     </td><td>153.85     </td><td>133.4566   </td><td> 6149200   </td><td>0.9590643  </td><td>0.9685393  </td><td>0.009474998</td><td>1.4        </td></tr>\n",
       "\t<tr><td>2018-01-25 </td><td>165.91     </td><td>166.78     </td><td>165.19     </td><td>165.47     </td><td>143.5363   </td><td> 3302500   </td><td>1.0108761  </td><td>1.0118467  </td><td>0.000970557</td><td>0.2        </td></tr>\n",
       "</tbody>\n",
       "</table>\n"
      ],
      "text/latex": [
       "\\begin{tabular}{r|lllllllllll}\n",
       " Date & Open & High & Low & Close & Adj.Close & Volume & Close\\_ratio & Adj\\_ratio & Diff & Dividend\\\\\n",
       "\\hline\n",
       "\t 2018-12-28  & 114.22      & 114.80      & 112.50      & 113.03      & 102.4823    &  5117500    & 1.4026549   & 1.3414634   & 0.061191453 & 9.7        \\\\\n",
       "\t 2018-05-08  & 143.00      & 143.51      & 142.06      & 143.00      & 125.2661    &  5369100    & 0.9972028   & 1.0079808   & 0.010778049 & 1.5        \\\\\n",
       "\t 2018-08-08  & 147.33      & 147.43      & 146.24      & 146.89      & 130.1021    &  3581100    & 0.9857046   & 0.9961568   & 0.010452242 & 1.5        \\\\\n",
       "\t 2018-11-07  & 123.79      & 125.06      & 122.33      & 124.84      & 111.7667    & 12382700    & 0.9887821   & 1.0008945   & 0.012112403 & 1.5        \\\\\n",
       "\t 2018-02-07  & 154.17      & 155.34      & 153.28      & 153.85      & 133.4566    &  6149200    & 0.9590643   & 0.9685393   & 0.009474998 & 1.4        \\\\\n",
       "\t 2018-01-25  & 165.91      & 166.78      & 165.19      & 165.47      & 143.5363    &  3302500    & 1.0108761   & 1.0118467   & 0.000970557 & 0.2        \\\\\n",
       "\\end{tabular}\n"
      ],
      "text/markdown": [
       "\n",
       "| Date | Open | High | Low | Close | Adj.Close | Volume | Close_ratio | Adj_ratio | Diff | Dividend |\n",
       "|---|---|---|---|---|---|---|---|---|---|---|\n",
       "| 2018-12-28  | 114.22      | 114.80      | 112.50      | 113.03      | 102.4823    |  5117500    | 1.4026549   | 1.3414634   | 0.061191453 | 9.7         |\n",
       "| 2018-05-08  | 143.00      | 143.51      | 142.06      | 143.00      | 125.2661    |  5369100    | 0.9972028   | 1.0079808   | 0.010778049 | 1.5         |\n",
       "| 2018-08-08  | 147.33      | 147.43      | 146.24      | 146.89      | 130.1021    |  3581100    | 0.9857046   | 0.9961568   | 0.010452242 | 1.5         |\n",
       "| 2018-11-07  | 123.79      | 125.06      | 122.33      | 124.84      | 111.7667    | 12382700    | 0.9887821   | 1.0008945   | 0.012112403 | 1.5         |\n",
       "| 2018-02-07  | 154.17      | 155.34      | 153.28      | 153.85      | 133.4566    |  6149200    | 0.9590643   | 0.9685393   | 0.009474998 | 1.4         |\n",
       "| 2018-01-25  | 165.91      | 166.78      | 165.19      | 165.47      | 143.5363    |  3302500    | 1.0108761   | 1.0118467   | 0.000970557 | 0.2         |\n",
       "\n"
      ],
      "text/plain": [
       "  Date       Open   High   Low    Close  Adj.Close Volume   Close_ratio\n",
       "1 2018-12-28 114.22 114.80 112.50 113.03 102.4823   5117500 1.4026549  \n",
       "2 2018-05-08 143.00 143.51 142.06 143.00 125.2661   5369100 0.9972028  \n",
       "3 2018-08-08 147.33 147.43 146.24 146.89 130.1021   3581100 0.9857046  \n",
       "4 2018-11-07 123.79 125.06 122.33 124.84 111.7667  12382700 0.9887821  \n",
       "5 2018-02-07 154.17 155.34 153.28 153.85 133.4566   6149200 0.9590643  \n",
       "6 2018-01-25 165.91 166.78 165.19 165.47 143.5363   3302500 1.0108761  \n",
       "  Adj_ratio Diff        Dividend\n",
       "1 1.3414634 0.061191453 9.7     \n",
       "2 1.0079808 0.010778049 1.5     \n",
       "3 0.9961568 0.010452242 1.5     \n",
       "4 1.0008945 0.012112403 1.5     \n",
       "5 0.9685393 0.009474998 1.4     \n",
       "6 1.0118467 0.000970557 0.2     "
      ]
     },
     "metadata": {},
     "output_type": "display_data"
    }
   ],
   "source": [
    "#ratio of previous day's \"Close\" price and today's \"Close\" price\n",
    "IBM_df_N= IBM_df%>%\n",
    "    mutate(Close_ratio=round(IBM_df[2:250,\"Close\"],digits=1)/round(IBM_df[1:250,\"Close\"],digits=1))%>%\n",
    "    mutate(Adj_ratio=round(IBM_df[2:250,\"Adj.Close\"],digits=1)/round(IBM_df[1:250,\"Adj.Close\"],digits=1))%>%\n",
    "    mutate(Diff = abs(Close_ratio-Adj_ratio))%>%\n",
    "    mutate(Date = IBM_df_N[,\"Date\"], Dividend = round(IBM_df_N[,\"Diff\"]*IBM_df[2:250,\"Close\"],digits=1))\n",
    "div_days=filter(IBM_df_N,Diff!=0)\n",
    "head(arrange(div_days,desc(Dividend)))"
   ]
  },
  {
   "cell_type": "code",
   "execution_count": 29,
   "metadata": {},
   "outputs": [
    {
     "name": "stderr",
     "output_type": "stream",
     "text": [
      "Warning message in AAPL_df[2:250, \"Close\"]/AAPL_df[1:250, \"Close\"]:\n",
      "\"longer object length is not a multiple of shorter object length\"Warning message in AAPL_df[2:250, \"Adj.Close\"]/AAPL_df[1:250, \"Adj.Close\"]:\n",
      "\"longer object length is not a multiple of shorter object length\""
     ]
    },
    {
     "data": {
      "text/html": [
       "<table>\n",
       "<thead><tr><th scope=col>Date</th><th scope=col>Dividend</th></tr></thead>\n",
       "<tbody>\n",
       "\t<tr><td>2018-12-28</td><td>0.02446   </td></tr>\n",
       "\t<tr><td>2018-01-05</td><td>0.00000   </td></tr>\n",
       "\t<tr><td>2018-01-09</td><td>0.00000   </td></tr>\n",
       "\t<tr><td>2018-01-11</td><td>0.00000   </td></tr>\n",
       "</tbody>\n",
       "</table>\n"
      ],
      "text/latex": [
       "\\begin{tabular}{r|ll}\n",
       " Date & Dividend\\\\\n",
       "\\hline\n",
       "\t 2018-12-28 & 0.02446   \\\\\n",
       "\t 2018-01-05 & 0.00000   \\\\\n",
       "\t 2018-01-09 & 0.00000   \\\\\n",
       "\t 2018-01-11 & 0.00000   \\\\\n",
       "\\end{tabular}\n"
      ],
      "text/markdown": [
       "\n",
       "| Date | Dividend |\n",
       "|---|---|\n",
       "| 2018-12-28 | 0.02446    |\n",
       "| 2018-01-05 | 0.00000    |\n",
       "| 2018-01-09 | 0.00000    |\n",
       "| 2018-01-11 | 0.00000    |\n",
       "\n"
      ],
      "text/plain": [
       "  Date       Dividend\n",
       "1 2018-12-28 0.02446 \n",
       "2 2018-01-05 0.00000 \n",
       "3 2018-01-09 0.00000 \n",
       "4 2018-01-11 0.00000 "
      ]
     },
     "metadata": {},
     "output_type": "display_data"
    }
   ],
   "source": [
    "AAPL_df_N=AAPL_df %>%\n",
    "    mutate(Close_ratio=AAPL_df[2:250,\"Close\"]/AAPL_df[1:250,\"Close\"])%>%\n",
    "    mutate(Adj_ratio=AAPL_df[2:250,\"Adj.Close\"]/AAPL_df[1:250,\"Adj.Close\"])%>%\n",
    "    mutate(Diff = Close_ratio-Adj_ratio)\n",
    "div_days=filter(AAPL_df_N,Diff>0)\n",
    "frame_AAPL = transmute(div_days,Date = div_days[,\"Date\"], Dividend = round(div_days[,\"Diff\"]*1.5,digits=5))\n",
    "head(arrange(frame_AAPL,desc(Dividend)),4)"
   ]
  },
  {
   "cell_type": "code",
   "execution_count": 30,
   "metadata": {},
   "outputs": [
    {
     "name": "stderr",
     "output_type": "stream",
     "text": [
      "Warning message in GOOG_df[2:250, \"Close\"]/GOOG_df[1:250, \"Close\"]:\n",
      "\"longer object length is not a multiple of shorter object length\"Warning message in GOOG_df[2:250, \"Adj.Close\"]/GOOG_df[1:250, \"Adj.Close\"]:\n",
      "\"longer object length is not a multiple of shorter object length\""
     ]
    },
    {
     "data": {
      "text/html": [
       "<table>\n",
       "<thead><tr><th scope=col>Date</th><th scope=col>Dividend</th></tr></thead>\n",
       "<tbody>\n",
       "</tbody>\n",
       "</table>\n"
      ],
      "text/latex": [
       "\\begin{tabular}{r|ll}\n",
       " Date & Dividend\\\\\n",
       "\\hline\n",
       "\\end{tabular}\n"
      ],
      "text/markdown": [
       "\n",
       "| Date | Dividend |\n",
       "|---|---|\n",
       "\n"
      ],
      "text/plain": [
       "     Date Dividend"
      ]
     },
     "metadata": {},
     "output_type": "display_data"
    }
   ],
   "source": [
    "GOOG_df_N=GOOG_df %>%\n",
    "    mutate(Close_ratio=GOOG_df[2:250,\"Close\"]/GOOG_df[1:250,\"Close\"])%>%\n",
    "    mutate(Adj_ratio=GOOG_df[2:250,\"Adj.Close\"]/GOOG_df[1:250,\"Adj.Close\"])%>%\n",
    "    mutate(Diff = Close_ratio-Adj_ratio)\n",
    "div_days=filter(GOOG_df_N,Diff>0)\n",
    "frame_GOOG = transmute(div_days,Date = div_days[,\"Date\"], Dividend = round(div_days[,\"Diff\"]*1.5,digits=5))\n",
    "head(arrange(frame_GOOG,desc(Dividend)),4)"
   ]
  },
  {
   "cell_type": "code",
   "execution_count": 31,
   "metadata": {},
   "outputs": [
    {
     "name": "stderr",
     "output_type": "stream",
     "text": [
      "Warning message in MSFT_df[2:250, \"Close\"]/MSFT_df[1:250, \"Close\"]:\n",
      "\"longer object length is not a multiple of shorter object length\"Warning message in MSFT_df[2:250, \"Adj.Close\"]/MSFT_df[1:250, \"Adj.Close\"]:\n",
      "\"longer object length is not a multiple of shorter object length\""
     ]
    },
    {
     "data": {
      "text/html": [
       "<table>\n",
       "<thead><tr><th scope=col>Date</th><th scope=col>Dividend</th><th scope=col>4</th></tr></thead>\n",
       "<tbody>\n",
       "\t<tr><td>2018-12-28</td><td>0.02196   </td><td>4         </td></tr>\n",
       "\t<tr><td>2018-01-04</td><td>0.00000   </td><td>4         </td></tr>\n",
       "\t<tr><td>2018-01-08</td><td>0.00000   </td><td>4         </td></tr>\n",
       "\t<tr><td>2018-01-10</td><td>0.00000   </td><td>4         </td></tr>\n",
       "</tbody>\n",
       "</table>\n"
      ],
      "text/latex": [
       "\\begin{tabular}{r|lll}\n",
       " Date & Dividend & 4\\\\\n",
       "\\hline\n",
       "\t 2018-12-28 & 0.02196    & 4         \\\\\n",
       "\t 2018-01-04 & 0.00000    & 4         \\\\\n",
       "\t 2018-01-08 & 0.00000    & 4         \\\\\n",
       "\t 2018-01-10 & 0.00000    & 4         \\\\\n",
       "\\end{tabular}\n"
      ],
      "text/markdown": [
       "\n",
       "| Date | Dividend | 4 |\n",
       "|---|---|---|\n",
       "| 2018-12-28 | 0.02196    | 4          |\n",
       "| 2018-01-04 | 0.00000    | 4          |\n",
       "| 2018-01-08 | 0.00000    | 4          |\n",
       "| 2018-01-10 | 0.00000    | 4          |\n",
       "\n"
      ],
      "text/plain": [
       "  Date       Dividend 4\n",
       "1 2018-12-28 0.02196  4\n",
       "2 2018-01-04 0.00000  4\n",
       "3 2018-01-08 0.00000  4\n",
       "4 2018-01-10 0.00000  4"
      ]
     },
     "metadata": {},
     "output_type": "display_data"
    }
   ],
   "source": [
    "MSFT_df_N=MSFT_df %>%\n",
    "    mutate(Close_ratio=MSFT_df[2:250,\"Close\"]/MSFT_df[1:250,\"Close\"])%>%\n",
    "    mutate(Adj_ratio=MSFT_df[2:250,\"Adj.Close\"]/MSFT_df[1:250,\"Adj.Close\"])%>%\n",
    "    mutate(Diff = Close_ratio-Adj_ratio)\n",
    "div_days=filter(MSFT_df_N,Diff>0)\n",
    "frame_MSFT = transmute(div_days,Date = div_days[,\"Date\"], Dividend = round(div_days[,\"Diff\"]*1.5, digits=5),4)\n",
    "head(arrange(frame_MSFT,desc(Dividend)),4)"
   ]
  },
  {
   "cell_type": "code",
   "execution_count": 33,
   "metadata": {},
   "outputs": [
    {
     "name": "stderr",
     "output_type": "stream",
     "text": [
      "Warning message in AMZN_df[2:250, \"Close\"]/AMZN_df[1:250, \"Close\"]:\n",
      "\"longer object length is not a multiple of shorter object length\"Warning message in AMZN_df[2:250, \"Adj.Close\"]/AMZN_df[1:250, \"Adj.Close\"]:\n",
      "\"longer object length is not a multiple of shorter object length\""
     ]
    },
    {
     "data": {
      "text/html": [
       "<table>\n",
       "<thead><tr><th scope=col>Date</th><th scope=col>Dividend</th></tr></thead>\n",
       "<tbody>\n",
       "</tbody>\n",
       "</table>\n"
      ],
      "text/latex": [
       "\\begin{tabular}{r|ll}\n",
       " Date & Dividend\\\\\n",
       "\\hline\n",
       "\\end{tabular}\n"
      ],
      "text/markdown": [
       "\n",
       "| Date | Dividend |\n",
       "|---|---|\n",
       "\n"
      ],
      "text/plain": [
       "     Date Dividend"
      ]
     },
     "metadata": {},
     "output_type": "display_data"
    }
   ],
   "source": [
    "AMZN_df_N=AMZN_df %>%\n",
    "    mutate(Close_ratio=AMZN_df[2:250,\"Close\"]/AMZN_df[1:250,\"Close\"])%>%\n",
    "    mutate(Adj_ratio=AMZN_df[2:250,\"Adj.Close\"]/AMZN_df[1:250,\"Adj.Close\"])%>%\n",
    "    mutate(Diff = Close_ratio-Adj_ratio)\n",
    "div_days=filter(AMZN_df_N,Diff>0)\n",
    "frame_AMZN = transmute(div_days,Date = div_days[,\"Date\"], Dividend = round(div_days[,\"Diff\"]*1.5,digits=5))\n",
    "head(arrange(frame_AMZN,Dividend),4)"
   ]
  },
  {
   "cell_type": "code",
   "execution_count": 34,
   "metadata": {},
   "outputs": [
    {
     "name": "stderr",
     "output_type": "stream",
     "text": [
      "Warning message in FB_df[2:250, \"Close\"]/FB_df[1:250, \"Close\"]:\n",
      "\"longer object length is not a multiple of shorter object length\"Warning message in FB_df[2:250, \"Adj.Close\"]/FB_df[1:250, \"Adj.Close\"]:\n",
      "\"longer object length is not a multiple of shorter object length\""
     ]
    },
    {
     "data": {
      "text/html": [
       "<table>\n",
       "<thead><tr><th scope=col>Date</th><th scope=col>Dividend</th></tr></thead>\n",
       "<tbody>\n",
       "</tbody>\n",
       "</table>\n"
      ],
      "text/latex": [
       "\\begin{tabular}{r|ll}\n",
       " Date & Dividend\\\\\n",
       "\\hline\n",
       "\\end{tabular}\n"
      ],
      "text/markdown": [
       "\n",
       "| Date | Dividend |\n",
       "|---|---|\n",
       "\n"
      ],
      "text/plain": [
       "     Date Dividend"
      ]
     },
     "metadata": {},
     "output_type": "display_data"
    }
   ],
   "source": [
    "FB_df_N=FB_df %>%\n",
    "    mutate(Close_ratio=FB_df[2:250,\"Close\"]/FB_df[1:250,\"Close\"])%>%\n",
    "    mutate(Adj_ratio=FB_df[2:250,\"Adj.Close\"]/FB_df[1:250,\"Adj.Close\"])%>%\n",
    "    mutate(Diff = Close_ratio-Adj_ratio)\n",
    "div_days=filter(FB_df_N,Diff!=0)\n",
    "frame_FB = transmute(div_days,Date = div_days[,\"Date\"], Dividend = round(div_days[,\"Diff\"]*1.5,digits=5))\n",
    "head(arrange(frame_FB,Dividend),4)"
   ]
  },
  {
   "cell_type": "code",
   "execution_count": 1,
   "metadata": {
    "scrolled": false
   },
   "outputs": [
    {
     "ename": "ERROR",
     "evalue": "Error in eval(expr, envir, enclos): object 'frame_FB' not found\n",
     "output_type": "error",
     "traceback": [
      "Error in eval(expr, envir, enclos): object 'frame_FB' not found\nTraceback:\n"
     ]
    }
   ],
   "source": [
    "class(frame_FB$Dividend)\n",
    "sss=seq(1,5,by = 0.5)\n",
    "sss\n",
    "class(sss)\n",
    "S= cbind(sss)\n",
    "S\n",
    "class(S)\n",
    "S1= data.frame(S)\n",
    "class(S1)\n",
    "Ar = arrange(S1,sss)\n",
    "Ar"
   ]
  },
  {
   "cell_type": "code",
   "execution_count": 2,
   "metadata": {},
   "outputs": [
    {
     "data": {
      "text/html": [
       "<strong>$gg</strong> = 5"
      ],
      "text/latex": [
       "\\textbf{\\$gg} = 5"
      ],
      "text/markdown": [
       "**$gg** = 5"
      ],
      "text/plain": [
       "$gg\n",
       "[1] 5\n"
      ]
     },
     "metadata": {},
     "output_type": "display_data"
    }
   ],
   "source": [
    "ll=list()\n",
    "ll[[\"gg\"]]=5\n",
    "ll"
   ]
  }
 ],
 "metadata": {
  "kernelspec": {
   "display_name": "R",
   "language": "R",
   "name": "ir"
  },
  "language_info": {
   "codemirror_mode": "r",
   "file_extension": ".r",
   "mimetype": "text/x-r-source",
   "name": "R",
   "pygments_lexer": "r",
   "version": "3.6.1"
  }
 },
 "nbformat": 4,
 "nbformat_minor": 2
}
